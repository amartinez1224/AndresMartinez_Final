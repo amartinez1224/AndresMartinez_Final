{
 "cells": [
  {
   "cell_type": "code",
   "execution_count": 1,
   "metadata": {},
   "outputs": [],
   "source": [
    "import numpy as np\n",
    "import pandas as pd\n",
    "import matplotlib.pyplot as plt\n",
    "from sklearn.model_selection import train_test_split\n",
    "from sklearn.linear_model import LogisticRegression\n",
    "from sklearn.preprocessing import LabelEncoder\n",
    "from sklearn.cluster import KMeans\n",
    "from sklearn.decomposition import PCA\n",
    "import sklearn.metrics\n",
    "%matplotlib inline\n",
    "import warnings\n",
    "warnings.filterwarnings('ignore')"
   ]
  },
  {
   "cell_type": "markdown",
   "metadata": {},
   "source": [
    "# Datos\n",
    "Se trabajara con la informacion de la encuesta de preguntas de opcion multiple, especificamente con las preguntas 1,2,3,4,5,6 y 23 que corresponden a genero, edad, pais, pregrado, rol actual y cuanto tiempo dedica a programa, respectivamente."
   ]
  },
  {
   "cell_type": "code",
   "execution_count": 2,
   "metadata": {},
   "outputs": [
    {
     "data": {
      "text/html": [
       "<div>\n",
       "<style scoped>\n",
       "    .dataframe tbody tr th:only-of-type {\n",
       "        vertical-align: middle;\n",
       "    }\n",
       "\n",
       "    .dataframe tbody tr th {\n",
       "        vertical-align: top;\n",
       "    }\n",
       "\n",
       "    .dataframe thead th {\n",
       "        text-align: right;\n",
       "    }\n",
       "</style>\n",
       "<table border=\"1\" class=\"dataframe\">\n",
       "  <thead>\n",
       "    <tr style=\"text-align: right;\">\n",
       "      <th></th>\n",
       "      <th>Q23</th>\n",
       "      <th>Q1</th>\n",
       "      <th>Q2</th>\n",
       "      <th>Q3</th>\n",
       "      <th>Q4</th>\n",
       "      <th>Q5</th>\n",
       "      <th>Q6</th>\n",
       "    </tr>\n",
       "  </thead>\n",
       "  <tbody>\n",
       "    <tr>\n",
       "      <th>1</th>\n",
       "      <td>0% of my time</td>\n",
       "      <td>Female</td>\n",
       "      <td>45-49</td>\n",
       "      <td>United States of America</td>\n",
       "      <td>Doctoral degree</td>\n",
       "      <td>Other</td>\n",
       "      <td>Consultant</td>\n",
       "    </tr>\n",
       "    <tr>\n",
       "      <th>2</th>\n",
       "      <td>1% to 25% of my time</td>\n",
       "      <td>Male</td>\n",
       "      <td>30-34</td>\n",
       "      <td>Indonesia</td>\n",
       "      <td>Bachelor’s degree</td>\n",
       "      <td>Engineering (non-computer focused)</td>\n",
       "      <td>Other</td>\n",
       "    </tr>\n",
       "    <tr>\n",
       "      <th>3</th>\n",
       "      <td>75% to 99% of my time</td>\n",
       "      <td>Female</td>\n",
       "      <td>30-34</td>\n",
       "      <td>United States of America</td>\n",
       "      <td>Master’s degree</td>\n",
       "      <td>Computer science (software engineering, etc.)</td>\n",
       "      <td>Data Scientist</td>\n",
       "    </tr>\n",
       "    <tr>\n",
       "      <th>4</th>\n",
       "      <td>50% to 74% of my time</td>\n",
       "      <td>Male</td>\n",
       "      <td>35-39</td>\n",
       "      <td>United States of America</td>\n",
       "      <td>Master’s degree</td>\n",
       "      <td>Social sciences (anthropology, psychology, soc...</td>\n",
       "      <td>Not employed</td>\n",
       "    </tr>\n",
       "    <tr>\n",
       "      <th>5</th>\n",
       "      <td>75% to 99% of my time</td>\n",
       "      <td>Male</td>\n",
       "      <td>22-24</td>\n",
       "      <td>India</td>\n",
       "      <td>Master’s degree</td>\n",
       "      <td>Mathematics or statistics</td>\n",
       "      <td>Data Analyst</td>\n",
       "    </tr>\n",
       "  </tbody>\n",
       "</table>\n",
       "</div>"
      ],
      "text/plain": [
       "                     Q23      Q1     Q2                        Q3  \\\n",
       "1          0% of my time  Female  45-49  United States of America   \n",
       "2   1% to 25% of my time    Male  30-34                 Indonesia   \n",
       "3  75% to 99% of my time  Female  30-34  United States of America   \n",
       "4  50% to 74% of my time    Male  35-39  United States of America   \n",
       "5  75% to 99% of my time    Male  22-24                     India   \n",
       "\n",
       "                  Q4                                                 Q5  \\\n",
       "1    Doctoral degree                                              Other   \n",
       "2  Bachelor’s degree                 Engineering (non-computer focused)   \n",
       "3    Master’s degree      Computer science (software engineering, etc.)   \n",
       "4    Master’s degree  Social sciences (anthropology, psychology, soc...   \n",
       "5    Master’s degree                          Mathematics or statistics   \n",
       "\n",
       "               Q6  \n",
       "1      Consultant  \n",
       "2           Other  \n",
       "3  Data Scientist  \n",
       "4    Not employed  \n",
       "5    Data Analyst  "
      ]
     },
     "execution_count": 2,
     "metadata": {},
     "output_type": "execute_result"
    }
   ],
   "source": [
    "data = pd.read_csv('multipleChoiceResponses.csv',low_memory=False)\n",
    "data = data[['Q23','Q1', 'Q2', 'Q3', 'Q4', 'Q5','Q6']]\n",
    "data = data.dropna()\n",
    "data = data.drop(data.index[0])\n",
    "data.head()"
   ]
  },
  {
   "cell_type": "markdown",
   "metadata": {},
   "source": [
    "Ahora se usa One Hot encoder para los datos cualitativos que no tienen un orden (Q1,Q3,Q4,Q5 y Q6) y un label encoder ordenado para los datos que sitienen orden, en este caso la pregunta 23 y la pregunta 2."
   ]
  },
  {
   "cell_type": "code",
   "execution_count": 3,
   "metadata": {},
   "outputs": [],
   "source": [
    "data = pd.concat([data,pd.get_dummies(data['Q1']),pd.get_dummies(data['Q3']),pd.get_dummies(data['Q4']),pd.get_dummies(data['Q5']),pd.get_dummies(data['Q6'])],axis=1)\n",
    "data = data.drop(['Q1', 'Q3', 'Q4', 'Q5','Q6'], axis=1)"
   ]
  },
  {
   "cell_type": "code",
   "execution_count": 4,
   "metadata": {},
   "outputs": [
    {
     "data": {
      "text/html": [
       "<div>\n",
       "<style scoped>\n",
       "    .dataframe tbody tr th:only-of-type {\n",
       "        vertical-align: middle;\n",
       "    }\n",
       "\n",
       "    .dataframe tbody tr th {\n",
       "        vertical-align: top;\n",
       "    }\n",
       "\n",
       "    .dataframe thead th {\n",
       "        text-align: right;\n",
       "    }\n",
       "</style>\n",
       "<table border=\"1\" class=\"dataframe\">\n",
       "  <thead>\n",
       "    <tr style=\"text-align: right;\">\n",
       "      <th></th>\n",
       "      <th>Q23</th>\n",
       "      <th>Q2</th>\n",
       "      <th>Female</th>\n",
       "      <th>Male</th>\n",
       "      <th>Prefer not to say</th>\n",
       "      <th>Prefer to self-describe</th>\n",
       "      <th>Argentina</th>\n",
       "      <th>Australia</th>\n",
       "      <th>Austria</th>\n",
       "      <th>Bangladesh</th>\n",
       "      <th>...</th>\n",
       "      <th>Not employed</th>\n",
       "      <th>Other</th>\n",
       "      <th>Principal Investigator</th>\n",
       "      <th>Product/Project Manager</th>\n",
       "      <th>Research Assistant</th>\n",
       "      <th>Research Scientist</th>\n",
       "      <th>Salesperson</th>\n",
       "      <th>Software Engineer</th>\n",
       "      <th>Statistician</th>\n",
       "      <th>Student</th>\n",
       "    </tr>\n",
       "  </thead>\n",
       "  <tbody>\n",
       "    <tr>\n",
       "      <th>1</th>\n",
       "      <td>0</td>\n",
       "      <td>6</td>\n",
       "      <td>1</td>\n",
       "      <td>0</td>\n",
       "      <td>0</td>\n",
       "      <td>0</td>\n",
       "      <td>0</td>\n",
       "      <td>0</td>\n",
       "      <td>0</td>\n",
       "      <td>0</td>\n",
       "      <td>...</td>\n",
       "      <td>0</td>\n",
       "      <td>0</td>\n",
       "      <td>0</td>\n",
       "      <td>0</td>\n",
       "      <td>0</td>\n",
       "      <td>0</td>\n",
       "      <td>0</td>\n",
       "      <td>0</td>\n",
       "      <td>0</td>\n",
       "      <td>0</td>\n",
       "    </tr>\n",
       "    <tr>\n",
       "      <th>2</th>\n",
       "      <td>1</td>\n",
       "      <td>3</td>\n",
       "      <td>0</td>\n",
       "      <td>1</td>\n",
       "      <td>0</td>\n",
       "      <td>0</td>\n",
       "      <td>0</td>\n",
       "      <td>0</td>\n",
       "      <td>0</td>\n",
       "      <td>0</td>\n",
       "      <td>...</td>\n",
       "      <td>0</td>\n",
       "      <td>1</td>\n",
       "      <td>0</td>\n",
       "      <td>0</td>\n",
       "      <td>0</td>\n",
       "      <td>0</td>\n",
       "      <td>0</td>\n",
       "      <td>0</td>\n",
       "      <td>0</td>\n",
       "      <td>0</td>\n",
       "    </tr>\n",
       "    <tr>\n",
       "      <th>3</th>\n",
       "      <td>5</td>\n",
       "      <td>3</td>\n",
       "      <td>1</td>\n",
       "      <td>0</td>\n",
       "      <td>0</td>\n",
       "      <td>0</td>\n",
       "      <td>0</td>\n",
       "      <td>0</td>\n",
       "      <td>0</td>\n",
       "      <td>0</td>\n",
       "      <td>...</td>\n",
       "      <td>0</td>\n",
       "      <td>0</td>\n",
       "      <td>0</td>\n",
       "      <td>0</td>\n",
       "      <td>0</td>\n",
       "      <td>0</td>\n",
       "      <td>0</td>\n",
       "      <td>0</td>\n",
       "      <td>0</td>\n",
       "      <td>0</td>\n",
       "    </tr>\n",
       "    <tr>\n",
       "      <th>4</th>\n",
       "      <td>4</td>\n",
       "      <td>4</td>\n",
       "      <td>0</td>\n",
       "      <td>1</td>\n",
       "      <td>0</td>\n",
       "      <td>0</td>\n",
       "      <td>0</td>\n",
       "      <td>0</td>\n",
       "      <td>0</td>\n",
       "      <td>0</td>\n",
       "      <td>...</td>\n",
       "      <td>1</td>\n",
       "      <td>0</td>\n",
       "      <td>0</td>\n",
       "      <td>0</td>\n",
       "      <td>0</td>\n",
       "      <td>0</td>\n",
       "      <td>0</td>\n",
       "      <td>0</td>\n",
       "      <td>0</td>\n",
       "      <td>0</td>\n",
       "    </tr>\n",
       "    <tr>\n",
       "      <th>5</th>\n",
       "      <td>5</td>\n",
       "      <td>1</td>\n",
       "      <td>0</td>\n",
       "      <td>1</td>\n",
       "      <td>0</td>\n",
       "      <td>0</td>\n",
       "      <td>0</td>\n",
       "      <td>0</td>\n",
       "      <td>0</td>\n",
       "      <td>0</td>\n",
       "      <td>...</td>\n",
       "      <td>0</td>\n",
       "      <td>0</td>\n",
       "      <td>0</td>\n",
       "      <td>0</td>\n",
       "      <td>0</td>\n",
       "      <td>0</td>\n",
       "      <td>0</td>\n",
       "      <td>0</td>\n",
       "      <td>0</td>\n",
       "      <td>0</td>\n",
       "    </tr>\n",
       "  </tbody>\n",
       "</table>\n",
       "<p>5 rows × 104 columns</p>\n",
       "</div>"
      ],
      "text/plain": [
       "   Q23  Q2  Female  Male  Prefer not to say  Prefer to self-describe  \\\n",
       "1    0   6       1     0                  0                        0   \n",
       "2    1   3       0     1                  0                        0   \n",
       "3    5   3       1     0                  0                        0   \n",
       "4    4   4       0     1                  0                        0   \n",
       "5    5   1       0     1                  0                        0   \n",
       "\n",
       "   Argentina  Australia  Austria  Bangladesh   ...     Not employed  Other  \\\n",
       "1          0          0        0           0   ...                0      0   \n",
       "2          0          0        0           0   ...                0      1   \n",
       "3          0          0        0           0   ...                0      0   \n",
       "4          0          0        0           0   ...                1      0   \n",
       "5          0          0        0           0   ...                0      0   \n",
       "\n",
       "   Principal Investigator  Product/Project Manager  Research Assistant  \\\n",
       "1                       0                        0                   0   \n",
       "2                       0                        0                   0   \n",
       "3                       0                        0                   0   \n",
       "4                       0                        0                   0   \n",
       "5                       0                        0                   0   \n",
       "\n",
       "   Research Scientist  Salesperson  Software Engineer  Statistician  Student  \n",
       "1                   0            0                  0             0        0  \n",
       "2                   0            0                  0             0        0  \n",
       "3                   0            0                  0             0        0  \n",
       "4                   0            0                  0             0        0  \n",
       "5                   0            0                  0             0        0  \n",
       "\n",
       "[5 rows x 104 columns]"
      ]
     },
     "execution_count": 4,
     "metadata": {},
     "output_type": "execute_result"
    }
   ],
   "source": [
    "le = LabelEncoder().fit(['0% of my time', '1% to 25% of my time', '25% to 49% of my time','50% to 74% of my time', '75% to 99% of my time', '100% of my time'])\n",
    "data['Q23'] = le.transform(data['Q23'])\n",
    "le1 = LabelEncoder().fit(['18-21', '22-24', '25-29', '30-34', '35-39', '40-44', '45-49', '50-54','55-59', '60-69', '70-79', '80+'])\n",
    "data['Q2'] = le1.transform(data['Q2'])\n",
    "data.head()"
   ]
  },
  {
   "cell_type": "markdown",
   "metadata": {},
   "source": [
    "# Regresion Logistica\n",
    "Se usara una regresion logistica para tratar de predecir el genero de una persona basado en el tiempo que programa, su pais, su edad, titulo y pregrado. Para esto se toma como target Q2."
   ]
  },
  {
   "cell_type": "code",
   "execution_count": 5,
   "metadata": {},
   "outputs": [],
   "source": [
    "data1 = data.drop(['Male','Female','Prefer not to say','Prefer to self-describe'],axis=1)"
   ]
  },
  {
   "cell_type": "code",
   "execution_count": 6,
   "metadata": {},
   "outputs": [
    {
     "data": {
      "text/plain": [
       "0.8244548117608766"
      ]
     },
     "execution_count": 6,
     "metadata": {},
     "output_type": "execute_result"
    }
   ],
   "source": [
    "X_train, X_test, y_train, y_test = train_test_split(data1, data.loc[:, data.columns == 'Male'], test_size=0.5)\n",
    "reg = LogisticRegression().fit(X_train, y_train)\n",
    "reg.score(X_test,y_test)"
   ]
  },
  {
   "cell_type": "code",
   "execution_count": 7,
   "metadata": {},
   "outputs": [
    {
     "name": "stdout",
     "output_type": "stream",
     "text": [
      "0.998422090729783 0.8254158060658767\n"
     ]
    }
   ],
   "source": [
    "tn, fp, fn, tp = sklearn.metrics.confusion_matrix(reg.predict(X_test),y_test, labels=None, sample_weight=None).ravel()\n",
    "p = tp/(tp+fp)\n",
    "r = tp/(tp+fn)\n",
    "print(p,r)"
   ]
  },
  {
   "cell_type": "markdown",
   "metadata": {},
   "source": [
    "Es posible con esta informacion obtener un Score superior a 0.8, teniendo en cuenta que este medidor oscila entre 0 y 1, se consider un buen estimador. Ademas se presenta una precision y un reacall muy altos lo que indica que efectivamente se esta prediciendo bien. "
   ]
  },
  {
   "cell_type": "markdown",
   "metadata": {},
   "source": [
    "# PCA\n",
    "Se hace PCA a los datos completos de tal forma que se puedan obtener la cantidad de clusters que se usaran en Kmeans, se prefiere esta tecnica a usar algun tipo de score y probar con diferentes tamaños de clusters ya que tomaria demasiado tiempo explorar un numero significativo de posibles tamaños. "
   ]
  },
  {
   "cell_type": "code",
   "execution_count": 8,
   "metadata": {},
   "outputs": [
    {
     "data": {
      "text/plain": [
       "<matplotlib.collections.PathCollection at 0x7fd7fbdfbcf8>"
      ]
     },
     "execution_count": 8,
     "metadata": {},
     "output_type": "execute_result"
    },
    {
     "data": {
      "image/png": "[encoded data removed]",
      "text/plain": [
       "<Figure size 432x288 with 1 Axes>"
      ]
     },
     "metadata": {
      "needs_background": "light"
     },
     "output_type": "display_data"
    }
   ],
   "source": [
    "pca = PCA()\n",
    "a = pca.fit_transform(data)\n",
    "plt.scatter(a[:,0],a[:,1])"
   ]
  },
  {
   "cell_type": "markdown",
   "metadata": {},
   "source": [
    "El numero optimo de clusters en este caso sera de 72."
   ]
  },
  {
   "cell_type": "markdown",
   "metadata": {},
   "source": [
    "# Kmeans\n",
    "Se usa Kmeans y se obtienen los clusters, posteriormente se hace un plot que muestre en que varian estos cluster para poder determinar que significa. Para esto se usa una representacion grafica de la matriz que contiene la cantidad de personas en un grupo que cumplen con cierta caracteristica."
   ]
  },
  {
   "cell_type": "code",
   "execution_count": 9,
   "metadata": {},
   "outputs": [],
   "source": [
    "K = KMeans(n_clusters=72)\n",
    "data['indice'] = pd.Series(K.fit_predict(data), index=data.index)"
   ]
  },
  {
   "cell_type": "code",
   "execution_count": 10,
   "metadata": {},
   "outputs": [
    {
     "data": {
      "text/html": [
       "<div>\n",
       "<style scoped>\n",
       "    .dataframe tbody tr th:only-of-type {\n",
       "        vertical-align: middle;\n",
       "    }\n",
       "\n",
       "    .dataframe tbody tr th {\n",
       "        vertical-align: top;\n",
       "    }\n",
       "\n",
       "    .dataframe thead th {\n",
       "        text-align: right;\n",
       "    }\n",
       "</style>\n",
       "<table border=\"1\" class=\"dataframe\">\n",
       "  <thead>\n",
       "    <tr style=\"text-align: right;\">\n",
       "      <th></th>\n",
       "      <th>Q23</th>\n",
       "      <th>Q2</th>\n",
       "      <th>Female</th>\n",
       "      <th>Male</th>\n",
       "      <th>Prefer not to say</th>\n",
       "      <th>Prefer to self-describe</th>\n",
       "      <th>Argentina</th>\n",
       "      <th>Australia</th>\n",
       "      <th>Austria</th>\n",
       "      <th>Bangladesh</th>\n",
       "      <th>...</th>\n",
       "      <th>Other</th>\n",
       "      <th>Principal Investigator</th>\n",
       "      <th>Product/Project Manager</th>\n",
       "      <th>Research Assistant</th>\n",
       "      <th>Research Scientist</th>\n",
       "      <th>Salesperson</th>\n",
       "      <th>Software Engineer</th>\n",
       "      <th>Statistician</th>\n",
       "      <th>Student</th>\n",
       "      <th>indice</th>\n",
       "    </tr>\n",
       "  </thead>\n",
       "  <tbody>\n",
       "    <tr>\n",
       "      <th>1</th>\n",
       "      <td>0</td>\n",
       "      <td>6</td>\n",
       "      <td>1</td>\n",
       "      <td>0</td>\n",
       "      <td>0</td>\n",
       "      <td>0</td>\n",
       "      <td>0</td>\n",
       "      <td>0</td>\n",
       "      <td>0</td>\n",
       "      <td>0</td>\n",
       "      <td>...</td>\n",
       "      <td>0</td>\n",
       "      <td>0</td>\n",
       "      <td>0</td>\n",
       "      <td>0</td>\n",
       "      <td>0</td>\n",
       "      <td>0</td>\n",
       "      <td>0</td>\n",
       "      <td>0</td>\n",
       "      <td>0</td>\n",
       "      <td>11</td>\n",
       "    </tr>\n",
       "    <tr>\n",
       "      <th>2</th>\n",
       "      <td>1</td>\n",
       "      <td>3</td>\n",
       "      <td>0</td>\n",
       "      <td>1</td>\n",
       "      <td>0</td>\n",
       "      <td>0</td>\n",
       "      <td>0</td>\n",
       "      <td>0</td>\n",
       "      <td>0</td>\n",
       "      <td>0</td>\n",
       "      <td>...</td>\n",
       "      <td>1</td>\n",
       "      <td>0</td>\n",
       "      <td>0</td>\n",
       "      <td>0</td>\n",
       "      <td>0</td>\n",
       "      <td>0</td>\n",
       "      <td>0</td>\n",
       "      <td>0</td>\n",
       "      <td>0</td>\n",
       "      <td>40</td>\n",
       "    </tr>\n",
       "    <tr>\n",
       "      <th>3</th>\n",
       "      <td>5</td>\n",
       "      <td>3</td>\n",
       "      <td>1</td>\n",
       "      <td>0</td>\n",
       "      <td>0</td>\n",
       "      <td>0</td>\n",
       "      <td>0</td>\n",
       "      <td>0</td>\n",
       "      <td>0</td>\n",
       "      <td>0</td>\n",
       "      <td>...</td>\n",
       "      <td>0</td>\n",
       "      <td>0</td>\n",
       "      <td>0</td>\n",
       "      <td>0</td>\n",
       "      <td>0</td>\n",
       "      <td>0</td>\n",
       "      <td>0</td>\n",
       "      <td>0</td>\n",
       "      <td>0</td>\n",
       "      <td>21</td>\n",
       "    </tr>\n",
       "    <tr>\n",
       "      <th>4</th>\n",
       "      <td>4</td>\n",
       "      <td>4</td>\n",
       "      <td>0</td>\n",
       "      <td>1</td>\n",
       "      <td>0</td>\n",
       "      <td>0</td>\n",
       "      <td>0</td>\n",
       "      <td>0</td>\n",
       "      <td>0</td>\n",
       "      <td>0</td>\n",
       "      <td>...</td>\n",
       "      <td>0</td>\n",
       "      <td>0</td>\n",
       "      <td>0</td>\n",
       "      <td>0</td>\n",
       "      <td>0</td>\n",
       "      <td>0</td>\n",
       "      <td>0</td>\n",
       "      <td>0</td>\n",
       "      <td>0</td>\n",
       "      <td>14</td>\n",
       "    </tr>\n",
       "    <tr>\n",
       "      <th>5</th>\n",
       "      <td>5</td>\n",
       "      <td>1</td>\n",
       "      <td>0</td>\n",
       "      <td>1</td>\n",
       "      <td>0</td>\n",
       "      <td>0</td>\n",
       "      <td>0</td>\n",
       "      <td>0</td>\n",
       "      <td>0</td>\n",
       "      <td>0</td>\n",
       "      <td>...</td>\n",
       "      <td>0</td>\n",
       "      <td>0</td>\n",
       "      <td>0</td>\n",
       "      <td>0</td>\n",
       "      <td>0</td>\n",
       "      <td>0</td>\n",
       "      <td>0</td>\n",
       "      <td>0</td>\n",
       "      <td>0</td>\n",
       "      <td>44</td>\n",
       "    </tr>\n",
       "  </tbody>\n",
       "</table>\n",
       "<p>5 rows × 105 columns</p>\n",
       "</div>"
      ],
      "text/plain": [
       "   Q23  Q2  Female  Male  Prefer not to say  Prefer to self-describe  \\\n",
       "1    0   6       1     0                  0                        0   \n",
       "2    1   3       0     1                  0                        0   \n",
       "3    5   3       1     0                  0                        0   \n",
       "4    4   4       0     1                  0                        0   \n",
       "5    5   1       0     1                  0                        0   \n",
       "\n",
       "   Argentina  Australia  Austria  Bangladesh   ...    Other  \\\n",
       "1          0          0        0           0   ...        0   \n",
       "2          0          0        0           0   ...        1   \n",
       "3          0          0        0           0   ...        0   \n",
       "4          0          0        0           0   ...        0   \n",
       "5          0          0        0           0   ...        0   \n",
       "\n",
       "   Principal Investigator  Product/Project Manager  Research Assistant  \\\n",
       "1                       0                        0                   0   \n",
       "2                       0                        0                   0   \n",
       "3                       0                        0                   0   \n",
       "4                       0                        0                   0   \n",
       "5                       0                        0                   0   \n",
       "\n",
       "   Research Scientist  Salesperson  Software Engineer  Statistician  Student  \\\n",
       "1                   0            0                  0             0        0   \n",
       "2                   0            0                  0             0        0   \n",
       "3                   0            0                  0             0        0   \n",
       "4                   0            0                  0             0        0   \n",
       "5                   0            0                  0             0        0   \n",
       "\n",
       "   indice  \n",
       "1      11  \n",
       "2      40  \n",
       "3      21  \n",
       "4      14  \n",
       "5      44  \n",
       "\n",
       "[5 rows x 105 columns]"
      ]
     },
     "execution_count": 10,
     "metadata": {},
     "output_type": "execute_result"
    }
   ],
   "source": [
    "data.head()"
   ]
  },
  {
   "cell_type": "code",
   "execution_count": 11,
   "metadata": {},
   "outputs": [
    {
     "data": {
      "image/png": "[encoded data removed]",
      "text/plain": [
       "<Figure size 416x288 with 1 Axes>"
      ]
     },
     "metadata": {
      "needs_background": "light"
     },
     "output_type": "display_data"
    }
   ],
   "source": [
    "data2 = data.groupby('indice').sum()\n",
    "plt.matshow(data2)\n",
    "plt.show()"
   ]
  },
  {
   "cell_type": "code",
   "execution_count": 12,
   "metadata": {},
   "outputs": [
    {
     "data": {
      "text/plain": [
       "Index(['Bachelor’s degree', 'Doctoral degree', 'I prefer not to answer',\n",
       "       'Master’s degree', 'Professional degree',\n",
       "       'Some college/university study without earning a bachelor’s degree',\n",
       "       'A business discipline (accounting, economics, finance, etc.)',\n",
       "       'Computer science (software engineering, etc.)'],\n",
       "      dtype='object')"
      ]
     },
     "execution_count": 12,
     "metadata": {},
     "output_type": "execute_result"
    }
   ],
   "source": [
    "data2.keys()[64:72]"
   ]
  },
  {
   "cell_type": "markdown",
   "metadata": {},
   "source": [
    "Se puede concluir que estos clusters estan dividiendo a los encuestados segun su nivel educativo y rol actual. Esta conclusion se basa en que el eje y de la grafica anteriror indica los clusters y el eje x las caracteristicas, se puede ver que se hombre o mujer (las primeras dos caracteristicas) son fuertes pero no muy fluctuantes. Mientras que en las caracteristicas finales, en especial entre la 64 y 72 se presenta un gran fluctuacion."
   ]
  }
 ],
 "metadata": {
  "kernelspec": {
   "display_name": "Python 3",
   "language": "python",
   "name": "python3"
  },
  "language_info": {
   "codemirror_mode": {
    "name": "ipython",
    "version": 3
   },
   "file_extension": ".py",
   "mimetype": "text/x-python",
   "name": "python",
   "nbconvert_exporter": "python",
   "pygments_lexer": "ipython3",
   "version": "3.6.6"
  }
 },
 "nbformat": 4,
 "nbformat_minor": 2
}
